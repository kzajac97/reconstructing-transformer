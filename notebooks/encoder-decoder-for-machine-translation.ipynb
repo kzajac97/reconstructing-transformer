{
 "cells": [
  {
   "attachments": {},
   "cell_type": "markdown",
   "metadata": {},
   "source": [
    "# Transformer for Machine Translation\n",
    "\n",
    "This notebook aims to reproduce transformer model for machine translation from the paper **Attention Is All You Need** using encoder-decoder architecture.\n",
    "The weights are used from HuggingFace hub and the goal is to have a dive into the model to show transformer fundamentals.\n",
    "\n",
    "### Sources\n",
    "\n",
    "* [Attention Is All You Need](https://arxiv.org/abs/1706.03762)\n",
    "* [The Annotated Transformer](https://nlp.seas.harvard.edu/2018/04/03/attention.html)\n",
    "* [The Illustrated Transformer](https://jalammar.github.io/illustrated-transformer/)\n",
    "\n",
    "\n",
    "### Setup"
   ]
  },
  {
   "cell_type": "code",
   "execution_count": 1,
   "metadata": {},
   "outputs": [
    {
     "name": "stderr",
     "output_type": "stream",
     "text": [
      "c:\\Users\\kzaja\\Documents\\Research\\Github\\reconstructing-transformer\\.venv\\lib\\site-packages\\tqdm\\auto.py:21: TqdmWarning: IProgress not found. Please update jupyter and ipywidgets. See https://ipywidgets.readthedocs.io/en/stable/user_install.html\n",
      "  from .autonotebook import tqdm as notebook_tqdm\n"
     ]
    }
   ],
   "source": [
    "import re\n",
    "\n",
    "import torch\n",
    "import seaborn as sns\n",
    "from transformers import AutoTokenizer, AutoModelForSeq2SeqLM\n",
    "from matplotlib import pyplot as plt"
   ]
  },
  {
   "cell_type": "code",
   "execution_count": 2,
   "metadata": {},
   "outputs": [],
   "source": [
    "sns.set()"
   ]
  },
  {
   "attachments": {},
   "cell_type": "markdown",
   "metadata": {},
   "source": [
    "Make sure dependencies are installed, it is recommended to use GPU for this notebook."
   ]
  },
  {
   "cell_type": "code",
   "execution_count": 3,
   "metadata": {},
   "outputs": [],
   "source": [
    "# !pip install sentencepiece -q\n",
    "# !pip install transformers -q"
   ]
  },
  {
   "attachments": {},
   "cell_type": "markdown",
   "metadata": {},
   "source": [
    "Use parameters from *Helsinki-NLP* available at [https://huggingface.co/Helsinki-NLP/opus-mt-de-en](https://huggingface.co/Helsinki-NLP/opus-mt-de-en)."
   ]
  },
  {
   "cell_type": "code",
   "execution_count": 4,
   "metadata": {},
   "outputs": [
    {
     "name": "stderr",
     "output_type": "stream",
     "text": [
      "c:\\Users\\kzaja\\Documents\\Research\\Github\\reconstructing-transformer\\.venv\\lib\\site-packages\\transformers\\models\\marian\\tokenization_marian.py:194: UserWarning: Recommended: pip install sacremoses.\n",
      "  warnings.warn(\"Recommended: pip install sacremoses.\")\n"
     ]
    }
   ],
   "source": [
    "tokenizer = AutoTokenizer.from_pretrained(\"Helsinki-NLP/opus-mt-de-en\")\n",
    "transformer = AutoModelForSeq2SeqLM.from_pretrained(\"Helsinki-NLP/opus-mt-de-en\")"
   ]
  },
  {
   "cell_type": "code",
   "execution_count": 5,
   "metadata": {},
   "outputs": [
    {
     "name": "stdout",
     "output_type": "stream",
     "text": [
      "Mon May 29 20:55:31 2023       \n",
      "+-----------------------------------------------------------------------------+\n",
      "| NVIDIA-SMI 528.79       Driver Version: 528.79       CUDA Version: 12.0     |\n",
      "|-------------------------------+----------------------+----------------------+\n",
      "| GPU  Name            TCC/WDDM | Bus-Id        Disp.A | Volatile Uncorr. ECC |\n",
      "| Fan  Temp  Perf  Pwr:Usage/Cap|         Memory-Usage | GPU-Util  Compute M. |\n",
      "|                               |                      |               MIG M. |\n",
      "|===============================+======================+======================|\n",
      "|   0  NVIDIA GeForce ... WDDM  | 00000000:01:00.0 Off |                  N/A |\n",
      "| N/A   64C    P0    17W /  50W |      0MiB /  4096MiB |      0%      Default |\n",
      "|                               |                      |                  N/A |\n",
      "+-------------------------------+----------------------+----------------------+\n",
      "                                                                               \n",
      "+-----------------------------------------------------------------------------+\n",
      "| Processes:                                                                  |\n",
      "|  GPU   GI   CI        PID   Type   Process name                  GPU Memory |\n",
      "|        ID   ID                                                   Usage      |\n",
      "|=============================================================================|\n",
      "|  No running processes found                                                 |\n",
      "+-----------------------------------------------------------------------------+\n"
     ]
    }
   ],
   "source": [
    "!nvidia-smi"
   ]
  },
  {
   "cell_type": "code",
   "execution_count": 6,
   "metadata": {},
   "outputs": [],
   "source": [
    "# transformer = transformer.cuda()  # send to GPU\n",
    "transformer = transformer.eval()"
   ]
  },
  {
   "attachments": {},
   "cell_type": "markdown",
   "metadata": {},
   "source": [
    "### Tokenization\n",
    "\n",
    "For machine translation the input is a sentence in source language (denoted `src`), for this model the source language is German. The output should be the same sentence, but translated to English, which is called target language (denoted `tgt`)."
   ]
  },
  {
   "cell_type": "code",
   "execution_count": 7,
   "metadata": {},
   "outputs": [],
   "source": [
    "text = [\n",
    "    \"Die Maschine ist auf dem Weg nach Hause.\",  # source text\n",
    "]"
   ]
  },
  {
   "attachments": {},
   "cell_type": "markdown",
   "metadata": {},
   "source": [
    "To allow model to process the text, it needs to be converted into numbers, this process is called tokenization, where each word-piece is assigned a unique number. The tokenization is done using `tokenizers` library, which is a fast Rust library for tokenization. Word-piece is a part of a word, for example, suffix such as *ing* is a unique word piece, since it carries the information about what tense is used (in English). To allow the model to learn to *understand* such texts, it needs to *see* such suffixes as different words."
   ]
  },
  {
   "cell_type": "code",
   "execution_count": 8,
   "metadata": {},
   "outputs": [
    {
     "data": {
      "text/plain": [
       "tensor([[  55, 7618,   29,   37,   57,  995,   96, 2427,    3,    0]])"
      ]
     },
     "execution_count": 8,
     "metadata": {},
     "output_type": "execute_result"
    }
   ],
   "source": [
    "tokens = tokenizer(text, return_tensors=\"pt\", padding=False)\n",
    "tokens[\"input_ids\"]"
   ]
  },
  {
   "attachments": {},
   "cell_type": "markdown",
   "metadata": {},
   "source": [
    "`tokenizer` has unique index for both languages, German and English. Vocabulary size, which is the number of unique tokens known to the model is 58101."
   ]
  },
  {
   "cell_type": "code",
   "execution_count": 9,
   "metadata": {},
   "outputs": [
    {
     "name": "stdout",
     "output_type": "stream",
     "text": [
      "Word-piece: '.' -> token ids: tensor([[17,  3,  0]])\n",
      "Word-piece: '?' -> token ids: tensor([[17, 31,  0]])\n",
      "Word-piece: 'Die' -> token ids: tensor([[55,  0]])\n",
      "Word-piece: 'ist' -> token ids: tensor([[29,  0]])\n",
      "Word-piece: 'Hause' -> token ids: tensor([[2427,    0]])\n",
      "Word-piece: '' -> token ids: tensor([[0]])\n",
      "Word-piece: 'home' -> token ids: tensor([[   17, 12550,     0]])\n",
      "Word-piece: 'is' -> token ids: tensor([[19,  0]])\n",
      "Word-piece: 'machine' -> token ids: tensor([[13799,  1027,     0]])\n",
      "Word-piece: 'translating' -> token ids: tensor([[3388, 6860,   79,    0]])\n"
     ]
    }
   ],
   "source": [
    "for example in [\".\", \"?\", \"Die\", \"ist\", \"Hause\", \"\", \"home\", \"is\", \"machine\", \"translating\"]:\n",
    "    example_tokens = tokenizer([example], return_tensors=\"pt\", padding=False)[\"input_ids\"]\n",
    "    print(f\"Word-piece: '{example}' -> token ids: {example_tokens}\")"
   ]
  },
  {
   "attachments": {},
   "cell_type": "markdown",
   "metadata": {},
   "source": [
    "It can also decode tokens back to text."
   ]
  },
  {
   "cell_type": "code",
   "execution_count": 10,
   "metadata": {},
   "outputs": [
    {
     "name": "stdout",
     "output_type": "stream",
     "text": [
      "Token ids: tensor([[17,  3,  0]]) -> word-piece: .</s>\n",
      "Token ids: tensor([[17]]) -> word-piece: \n",
      "Token ids: tensor([[0]]) -> word-piece: </s>\n",
      "Token ids: tensor([[13799]]) -> word-piece: ▁mach\n",
      "Token ids: tensor([[3388, 6860,   79]]) -> word-piece: translating\n"
     ]
    }
   ],
   "source": [
    "for example in [[17, 3, 0], [17], [0], [13799], [3388, 6860, 79]]:\n",
    "    example_tokens = torch.tensor(example).unsqueeze(0)\n",
    "    print(f\"Token ids: {example_tokens} -> word-piece: {tokenizer.decode(example_tokens[0])}\")"
   ]
  },
  {
   "attachments": {},
   "cell_type": "markdown",
   "metadata": {},
   "source": [
    "To read more on tokenizers, following resources might be useful:\n",
    "* [HuggingFace Tokenizer Summary](https://huggingface.co/docs/transformers/tokenizer_summary)\n",
    "* [SentencePiece Paper](https://arxiv.org/abs/1808.06226)"
   ]
  },
  {
   "attachments": {},
   "cell_type": "markdown",
   "metadata": {},
   "source": [
    "# Model\n",
    "\n",
    "Model consists of 4 elements:\n",
    "* Embedding - trainable lookup table that maps the numbers to vectors of fixed size, shared between encoder and decoder\n",
    "* Encoder - stack of N identical transformer encoder layers\n",
    "* Decoder - stack of N identical transformer decoder layers\n",
    "* Head - final linear layer with softmax activation function converting dense embeddings to predictions"
   ]
  },
  {
   "attachments": {},
   "cell_type": "markdown",
   "metadata": {},
   "source": [
    "### Translation\n",
    "\n",
    "The whole model is trained on translation problem, which means it's goal it to covert German text to English text. The main entrypoint is `generate` method, which calls the model multiple times using autoregressive predictions to generate the translation. "
   ]
  },
  {
   "cell_type": "code",
   "execution_count": 11,
   "metadata": {},
   "outputs": [
    {
     "data": {
      "text/plain": [
       "'<pad> Machine learning is great</s>'"
      ]
     },
     "execution_count": 11,
     "metadata": {},
     "output_type": "execute_result"
    }
   ],
   "source": [
    "text = [\"Maschinelles Lernen ist großartig\"]\n",
    "tokens = tokenizer(text, return_tensors=\"pt\", padding=False)\n",
    "\n",
    "outputs = transformer.generate(**tokens, max_new_tokens=100)  # using **tokens is shorthand for passing tokens and attention mask\n",
    "tokenizer.decode(outputs[0])"
   ]
  },
  {
   "attachments": {},
   "cell_type": "markdown",
   "metadata": {},
   "source": [
    "**Note**: Source code and documentation of `generate` function are implemented by `GeneratorMixin` from HuggingFace, not by the model itself. \n",
    "\n",
    "Generation settings are controlled by the config, which by default is read from model files (they can be usually accessed on HuggingFace hub). For this model generation config looks as follows:\n",
    "\n",
    "```json\n",
    "{\n",
    "  \"_from_model_config\": true,\n",
    "  \"bad_words_ids\": [\n",
    "    [\n",
    "      58100\n",
    "    ]\n",
    "  ],\n",
    "  \"bos_token_id\": 0,\n",
    "  \"decoder_start_token_id\": 58100,\n",
    "  \"eos_token_id\": 0,\n",
    "  \"forced_eos_token_id\": 0,\n",
    "  \"max_length\": 512,\n",
    "  \"num_beams\": 4,\n",
    "  \"pad_token_id\": 58100,\n",
    "  \"transformers_version\": \"4.27.0.dev0\"\n",
    "}\n",
    "```\n",
    "\n",
    "Fore more details go to following resources:\n",
    "* [HuggingFace `GeneratorMixin` documentation](https://huggingface.co/docs/transformers/main_classes/text_generation)\n",
    "* [HuggingFace Text Generation Strategies](https://huggingface.co/docs/transformers/v4.29.1/en/generation_strategies)"
   ]
  },
  {
   "attachments": {},
   "cell_type": "markdown",
   "metadata": {},
   "source": [
    "This model will run beam search decoding, which can be seen from the `num_beams` parameter, which is not 1."
   ]
  },
  {
   "cell_type": "code",
   "execution_count": 12,
   "metadata": {},
   "outputs": [
    {
     "data": {
      "text/plain": [
       "odict_keys(['last_hidden_state', 'past_key_values', 'encoder_last_hidden_state'])"
      ]
     },
     "execution_count": 12,
     "metadata": {},
     "output_type": "execute_result"
    }
   ],
   "source": [
    "text = [\"Maschinelles Lernen ist großartig\"]\n",
    "tokens = tokenizer(text, return_tensors=\"pt\", padding=False)\n",
    "\n",
    "with torch.no_grad():\n",
    "    outputs = transformer.model(\n",
    "        input_ids=tokens[\"input_ids\"],\n",
    "        attention_mask=tokens[\"attention_mask\"],\n",
    "        # value 58100 is the token id from config for decoder_start_token_id\n",
    "        decoder_input_ids=torch.Tensor([58100]).long().unsqueeze(0),  # type cast to long and add batch dimension\n",
    "    )\n",
    "\n",
    "outputs.keys()  # outputs is ordered dict overload class"
   ]
  },
  {
   "attachments": {},
   "cell_type": "markdown",
   "metadata": {},
   "source": [
    "Last hidden state is decoder prediction, it contains the same number of sequence elements as decoder inputs, but the content is embedding. From this embedding, with the same size as model dimension output word can be predicted by linear layer with softmax activation function, which is the last trained layer of the model. "
   ]
  },
  {
   "cell_type": "code",
   "execution_count": 13,
   "metadata": {},
   "outputs": [
    {
     "data": {
      "text/plain": [
       "torch.Size([1, 1, 512])"
      ]
     },
     "execution_count": 13,
     "metadata": {},
     "output_type": "execute_result"
    }
   ],
   "source": [
    "outputs[\"last_hidden_state\"].shape"
   ]
  },
  {
   "attachments": {},
   "cell_type": "markdown",
   "metadata": {},
   "source": [
    "Prediction of the language modelling head is the probability distribution over entire vocabulary. The word with the highest probability is the prediction of the model (in case of greedy decoding)."
   ]
  },
  {
   "cell_type": "code",
   "execution_count": 14,
   "metadata": {},
   "outputs": [
    {
     "data": {
      "text/plain": [
       "torch.Size([1, 1, 58101])"
      ]
     },
     "execution_count": 14,
     "metadata": {},
     "output_type": "execute_result"
    }
   ],
   "source": [
    "with torch.no_grad():\n",
    "    predictions = transformer.lm_head(outputs[\"last_hidden_state\"])\n",
    "    predictions = torch.nn.functional.softmax(predictions, dim=-1)\n",
    "    \n",
    "predictions.shape"
   ]
  },
  {
   "cell_type": "code",
   "execution_count": 15,
   "metadata": {},
   "outputs": [
    {
     "data": {
      "text/plain": [
       "tensor([[1.0000]])"
      ]
     },
     "execution_count": 15,
     "metadata": {},
     "output_type": "execute_result"
    }
   ],
   "source": [
    "predictions.sum(dim=-1)"
   ]
  },
  {
   "attachments": {},
   "cell_type": "markdown",
   "metadata": {},
   "source": [
    "Selecting top 10 results and their probabilities can be done using `torch.topk`"
   ]
  },
  {
   "cell_type": "code",
   "execution_count": 16,
   "metadata": {},
   "outputs": [
    {
     "data": {
      "text/plain": [
       "torch.return_types.topk(\n",
       "values=tensor([7.9567e-01, 1.4070e-02, 1.0553e-02, 6.0083e-03, 3.6412e-03, 3.0484e-03,\n",
       "        1.0981e-03, 9.8738e-04, 9.6284e-04, 7.3160e-04]),\n",
       "indices=tensor([ 8853, 33856,  2004, 16984,  6188,  6989,  6232,  6666,  3234, 33590]))"
      ]
     },
     "execution_count": 16,
     "metadata": {},
     "output_type": "execute_result"
    }
   ],
   "source": [
    "response = torch.topk(predictions.squeeze(0).squeeze(0), k=10, dim=-1)\n",
    "response"
   ]
  },
  {
   "attachments": {},
   "cell_type": "markdown",
   "metadata": {},
   "source": [
    "For translating a single word, the outputs are usually not meaningful, since the model needs to see the whole sentence to understand the context. This is the reason, why methods like beam search are used, which allow to generate multiple results and select the best one.\n",
    "\n",
    "Beam search in transformer mode. lt works by exploring the most likely options down to a certain beam size, which is a hyperparameter that determines the number of paths to explore. The algorithm calculates the score of each option by calculating the probability of a token given everything that comes before it. In the transformer architecture, the output is the entire probability for each word in the vocabulary, for each position in the sequence.\n",
    "\n",
    "*Note*: Default `topk` value is 50, which means that the model will generate 50 results and select the best one."
   ]
  },
  {
   "cell_type": "code",
   "execution_count": 17,
   "metadata": {},
   "outputs": [
    {
     "name": "stdout",
     "output_type": "stream",
     "text": [
      "Machine\n",
      "Mechanical\n",
      "machine\n",
      "Learning\n",
      "Mach\n",
      "Engineering\n",
      "Learn\n",
      "maschine\n",
      "Maschinen\n",
      "Machines\n"
     ]
    }
   ],
   "source": [
    "for item in response.indices.tolist():\n",
    "    print(tokenizer.decode(item))"
   ]
  },
  {
   "attachments": {},
   "cell_type": "markdown",
   "metadata": {},
   "source": [
    "Prediction word at further position, requires passing not only source language, but also the previously predicted words. This is called autoregressive generation, since the model generates the output one word at a time using its own predictions. In beam search this step is performed more than once."
   ]
  },
  {
   "cell_type": "code",
   "execution_count": 18,
   "metadata": {},
   "outputs": [],
   "source": [
    "text = [\"Maschinelles Lernen ist großartig\"]\n",
    "tokens = tokenizer(text, return_tensors=\"pt\", padding=False)\n",
    "simulated_decoder_predictions = tokenizer(\"<pad> Machine learning is <pad>\", return_tensors=\"pt\", padding=False)\n"
   ]
  },
  {
   "attachments": {},
   "cell_type": "markdown",
   "metadata": {},
   "source": [
    "To perform translation, model needs multiple attention masks, which are used to mask out the padding tokens. This is done to prevent the model from paying attention to the padding tokens, which are not part of the input sequence."
   ]
  },
  {
   "cell_type": "code",
   "execution_count": 19,
   "metadata": {},
   "outputs": [
    {
     "data": {
      "text/plain": [
       "dict_keys(['input_ids', 'encoder_outputs', 'past_key_values', 'decoder_input_ids', 'attention_mask', 'head_mask', 'decoder_head_mask', 'cross_attn_head_mask', 'use_cache'])"
      ]
     },
     "execution_count": 19,
     "metadata": {},
     "output_type": "execute_result"
    }
   ],
   "source": [
    "generation_inputs = transformer.prepare_inputs_for_generation(decoder_input_ids=simulated_decoder_predictions[\"input_ids\"])\n",
    "generation_inputs.keys()"
   ]
  },
  {
   "attachments": {},
   "cell_type": "markdown",
   "metadata": {},
   "source": [
    "Masking is done using `torch.triu` function, which returns the upper triangular part of a matrix (2D tensor). The upper triangular part of the matrix is used, since the model is autoregressive, which means that it can only see the previous words, not the future ones. \n",
    "\n",
    "Passing very large negative values to the softmax function will result in very small values, which will be rounded to 0. This is used to mask out the padding tokens, since the model will not pay attention to them."
   ]
  },
  {
   "cell_type": "code",
   "execution_count": 20,
   "metadata": {},
   "outputs": [
    {
     "data": {
      "image/png": "[encoded data removed]",
      "text/plain": [
       "<Figure size 640x480 with 2 Axes>"
      ]
     },
     "metadata": {},
     "output_type": "display_data"
    }
   ],
   "source": [
    "attn = 10 * torch.rand(10, 10)\n",
    "mask = torch.triu(attn)\n",
    "\n",
    "output = torch.nn.functional.softmax(mask * attn, dim=-1)\n",
    "_ = sns.heatmap(output.numpy())"
   ]
  },
  {
   "attachments": {},
   "cell_type": "markdown",
   "metadata": {},
   "source": [
    "### Embedding"
   ]
  },
  {
   "cell_type": "code",
   "execution_count": 21,
   "metadata": {},
   "outputs": [
    {
     "data": {
      "text/plain": [
       "Embedding(58101, 512, padding_idx=58100)"
      ]
     },
     "execution_count": 21,
     "metadata": {},
     "output_type": "execute_result"
    }
   ],
   "source": [
    "transformer.model.shared"
   ]
  },
  {
   "attachments": {},
   "cell_type": "markdown",
   "metadata": {},
   "source": [
    "Output shape is `(batch_size, sequence_length, hidden_size)`, where `hidden_size` is the size of the embedding vector, 512 for this model. Each embedding represents a point in high-dimensional space, where similar words are closer to each other. Embeddings are trained during the training process."
   ]
  },
  {
   "cell_type": "code",
   "execution_count": 22,
   "metadata": {},
   "outputs": [
    {
     "data": {
      "text/plain": [
       "torch.Size([1, 6, 512])"
      ]
     },
     "execution_count": 22,
     "metadata": {},
     "output_type": "execute_result"
    }
   ],
   "source": [
    "with torch.no_grad():\n",
    "    embedding = transformer.model.shared(tokenizer(\"Hello world!\", return_tensors=\"pt\", padding=False)[\"input_ids\"])\n",
    "\n",
    "embedding.shape"
   ]
  },
  {
   "attachments": {},
   "cell_type": "markdown",
   "metadata": {},
   "source": [
    "# Encoder\n",
    "\n",
    "Encoder is a stack of TransformerLayers, which are identical. Each layer has 2 sublayers:\n",
    "* Multi-head self-attention mechanism\n",
    "* Position-wise fully connected feed-forward network\n",
    "\n",
    "Encoder blocks are connected to each other, so input to $N$-th block is the output of $(N-1)$-th block."
   ]
  },
  {
   "cell_type": "code",
   "execution_count": 23,
   "metadata": {},
   "outputs": [
    {
     "data": {
      "text/plain": [
       "MarianEncoder(\n",
       "  (embed_tokens): Embedding(58101, 512, padding_idx=58100)\n",
       "  (embed_positions): MarianSinusoidalPositionalEmbedding(512, 512)\n",
       "  (layers): ModuleList(\n",
       "    (0-5): 6 x MarianEncoderLayer(\n",
       "      (self_attn): MarianAttention(\n",
       "        (k_proj): Linear(in_features=512, out_features=512, bias=True)\n",
       "        (v_proj): Linear(in_features=512, out_features=512, bias=True)\n",
       "        (q_proj): Linear(in_features=512, out_features=512, bias=True)\n",
       "        (out_proj): Linear(in_features=512, out_features=512, bias=True)\n",
       "      )\n",
       "      (self_attn_layer_norm): LayerNorm((512,), eps=1e-05, elementwise_affine=True)\n",
       "      (activation_fn): SiLUActivation()\n",
       "      (fc1): Linear(in_features=512, out_features=2048, bias=True)\n",
       "      (fc2): Linear(in_features=2048, out_features=512, bias=True)\n",
       "      (final_layer_norm): LayerNorm((512,), eps=1e-05, elementwise_affine=True)\n",
       "    )\n",
       "  )\n",
       ")"
      ]
     },
     "execution_count": 23,
     "metadata": {},
     "output_type": "execute_result"
    }
   ],
   "source": [
    "transformer.model.encoder"
   ]
  },
  {
   "attachments": {},
   "cell_type": "markdown",
   "metadata": {},
   "source": [
    "Positional embedding, which is added to the input embeddings at the bottom of the encoder, is used to provide information about the position of each token in the sequence. This is needed because the model does not contain any recurrent or convolutional layers, so it does not know the order of the tokens.\n",
    "\n",
    "For this model, the positional embedding is a vector of size 512 (model dimension) and length 512 (max sequence length of the model), which is added to the input embeddings."
   ]
  },
  {
   "cell_type": "code",
   "execution_count": 24,
   "metadata": {},
   "outputs": [
    {
     "data": {
      "text/plain": [
       "torch.Size([512, 512])"
      ]
     },
     "execution_count": 24,
     "metadata": {},
     "output_type": "execute_result"
    }
   ],
   "source": [
    "tokens = tokenizer(\"Hello world!\", return_tensors=\"pt\", padding=False)[\"input_ids\"]\n",
    "position_encoding = transformer.model.encoder.embed_positions(input_ids_shape=[100, 512])\n",
    "position_encoding.shape"
   ]
  },
  {
   "attachments": {},
   "cell_type": "markdown",
   "metadata": {},
   "source": [
    "Positional encoding is simply added to the embedding, which creates input of encoder block."
   ]
  },
  {
   "cell_type": "code",
   "execution_count": 25,
   "metadata": {},
   "outputs": [
    {
     "data": {
      "text/plain": [
       "torch.Size([1, 6, 512])"
      ]
     },
     "execution_count": 25,
     "metadata": {},
     "output_type": "execute_result"
    }
   ],
   "source": [
    "inputs = embedding + position_encoding[:embedding.shape[1], :]\n",
    "inputs.shape"
   ]
  },
  {
   "cell_type": "code",
   "execution_count": 26,
   "metadata": {},
   "outputs": [
    {
     "data": {
      "text/plain": [
       "ModuleList(\n",
       "  (0-5): 6 x MarianEncoderLayer(\n",
       "    (self_attn): MarianAttention(\n",
       "      (k_proj): Linear(in_features=512, out_features=512, bias=True)\n",
       "      (v_proj): Linear(in_features=512, out_features=512, bias=True)\n",
       "      (q_proj): Linear(in_features=512, out_features=512, bias=True)\n",
       "      (out_proj): Linear(in_features=512, out_features=512, bias=True)\n",
       "    )\n",
       "    (self_attn_layer_norm): LayerNorm((512,), eps=1e-05, elementwise_affine=True)\n",
       "    (activation_fn): SiLUActivation()\n",
       "    (fc1): Linear(in_features=512, out_features=2048, bias=True)\n",
       "    (fc2): Linear(in_features=2048, out_features=512, bias=True)\n",
       "    (final_layer_norm): LayerNorm((512,), eps=1e-05, elementwise_affine=True)\n",
       "  )\n",
       ")"
      ]
     },
     "execution_count": 26,
     "metadata": {},
     "output_type": "execute_result"
    }
   ],
   "source": [
    "transformer.model.encoder.layers"
   ]
  },
  {
   "attachments": {},
   "cell_type": "markdown",
   "metadata": {},
   "source": [
    "This class uses iterable `torch.ModuleList`, so to pass the inputs through all encoder blocks, it is enough to iterate over the list."
   ]
  },
  {
   "cell_type": "code",
   "execution_count": 27,
   "metadata": {},
   "outputs": [
    {
     "data": {
      "text/plain": [
       "torch.Size([1, 6, 512])"
      ]
     },
     "execution_count": 27,
     "metadata": {},
     "output_type": "execute_result"
    }
   ],
   "source": [
    "with torch.no_grad():\n",
    "    for layer in transformer.model.encoder.layers:\n",
    "        # attention mask in encoder is used to prevent attending to padding tokens\n",
    "        encoder_outputs = layer(inputs, attention_mask=None, layer_head_mask=None)\n",
    "\n",
    "encoder_outputs[0].shape"
   ]
  },
  {
   "attachments": {},
   "cell_type": "markdown",
   "metadata": {},
   "source": [
    "# Encoder Block\n",
    "\n",
    "Inside each encoder block the same operations are performed, the only difference is the parameters inside trained matrices. The two operations are self-attention and feed-forward network.\n",
    "\n",
    "### Self-Attention\n",
    "\n",
    "Self-attention is a mechanism that allows the model to learn the dependencies between words in a sequence. It is called self-attention because the attention mechanism is applied to the sequence itself, instead of comparing it to another sequence."
   ]
  },
  {
   "attachments": {},
   "cell_type": "markdown",
   "metadata": {},
   "source": [
    "Key projection is a linear layer with learned parameters computing keys from inputs. Keys are abstract representation of the inputs, which are used to compute the attention scores. The intuition behind the content of keys is that they represent the information, which given input should exposes, depending on the context.\n",
    "\n",
    "For example in the sentence: *I like machine learning, because it is useful and fun to learn*, during encoding the word *it* refers to *machine learning*, so it should be exposed by key projection."
   ]
  },
  {
   "cell_type": "code",
   "execution_count": 28,
   "metadata": {},
   "outputs": [
    {
     "data": {
      "text/plain": [
       "Linear(in_features=512, out_features=512, bias=True)"
      ]
     },
     "execution_count": 28,
     "metadata": {},
     "output_type": "execute_result"
    }
   ],
   "source": [
    "transformer.model.encoder.layers[0].self_attn.k_proj"
   ]
  },
  {
   "attachments": {},
   "cell_type": "markdown",
   "metadata": {},
   "source": [
    "The layer can have bias and it needs to preserve the model dimensionality."
   ]
  },
  {
   "cell_type": "code",
   "execution_count": 29,
   "metadata": {},
   "outputs": [
    {
     "data": {
      "text/plain": [
       "torch.Size([1, 6, 512])"
      ]
     },
     "execution_count": 29,
     "metadata": {},
     "output_type": "execute_result"
    }
   ],
   "source": [
    "with torch.no_grad():\n",
    "    keys = transformer.model.encoder.layers[0].self_attn.k_proj(inputs)\n",
    "\n",
    "keys.shape"
   ]
  },
  {
   "attachments": {},
   "cell_type": "markdown",
   "metadata": {},
   "source": [
    "Query is another abstract representation used for computing attention scores, which is computed using linear layer with learned parameters. The intuition behind the content of queries is that they represent the information, which given input should pay attention to, depending on the context."
   ]
  },
  {
   "cell_type": "code",
   "execution_count": 30,
   "metadata": {},
   "outputs": [
    {
     "data": {
      "text/plain": [
       "Linear(in_features=512, out_features=512, bias=True)"
      ]
     },
     "execution_count": 30,
     "metadata": {},
     "output_type": "execute_result"
    }
   ],
   "source": [
    "transformer.model.encoder.layers[0].self_attn.q_proj"
   ]
  },
  {
   "attachments": {},
   "cell_type": "markdown",
   "metadata": {},
   "source": [
    "Shape of queries is the same as keys."
   ]
  },
  {
   "cell_type": "code",
   "execution_count": 31,
   "metadata": {},
   "outputs": [
    {
     "data": {
      "text/plain": [
       "torch.Size([1, 6, 512])"
      ]
     },
     "execution_count": 31,
     "metadata": {},
     "output_type": "execute_result"
    }
   ],
   "source": [
    "with torch.no_grad():\n",
    "    query = transformer.model.encoder.layers[0].self_attn.q_proj(inputs)\n",
    "\n",
    "query.shape"
   ]
  },
  {
   "attachments": {},
   "cell_type": "markdown",
   "metadata": {},
   "source": [
    "Values are third abstraction, which represents the information given input vector carries. They are also computed using linear layer with learned parameters."
   ]
  },
  {
   "cell_type": "code",
   "execution_count": 32,
   "metadata": {},
   "outputs": [
    {
     "data": {
      "text/plain": [
       "torch.Size([1, 6, 512])"
      ]
     },
     "execution_count": 32,
     "metadata": {},
     "output_type": "execute_result"
    }
   ],
   "source": [
    "with torch.no_grad():\n",
    "    values = transformer.model.encoder.layers[0].self_attn.v_proj(inputs)\n",
    "\n",
    "values.shape"
   ]
  },
  {
   "attachments": {},
   "cell_type": "markdown",
   "metadata": {},
   "source": [
    "Attention weights (sometimes called attention scores) represent the strength of relation between each pair of tokens. They are computed by multiplying queries and keys and then normalizing them using softmax function, so the sum of weights for each token is 1."
   ]
  },
  {
   "cell_type": "code",
   "execution_count": 33,
   "metadata": {},
   "outputs": [
    {
     "data": {
      "text/plain": [
       "torch.Size([1, 6, 6])"
      ]
     },
     "execution_count": 33,
     "metadata": {},
     "output_type": "execute_result"
    }
   ],
   "source": [
    "with torch.no_grad():\n",
    "    attn_weights = query @ keys.transpose(1, 2)\n",
    "    attn_weights = torch.nn.functional.softmax(attn_weights, dim=-1)\n",
    "\n",
    "attn_weights.shape"
   ]
  },
  {
   "attachments": {},
   "cell_type": "markdown",
   "metadata": {},
   "source": [
    "Finally values are multiplied by attention weights to get the context vector, which is the output of self-attention layer containing information about relation between tokens. This is the reason why transformer is able to learn richer dependencies between elements in the sentence, since each token is connected to each other token and the strength of those connections is learned."
   ]
  },
  {
   "cell_type": "code",
   "execution_count": 34,
   "metadata": {},
   "outputs": [
    {
     "data": {
      "text/plain": [
       "torch.Size([1, 6, 512])"
      ]
     },
     "execution_count": 34,
     "metadata": {},
     "output_type": "execute_result"
    }
   ],
   "source": [
    "outputs = attn_weights @ values\n",
    "outputs.shape"
   ]
  },
  {
   "attachments": {},
   "cell_type": "markdown",
   "metadata": {},
   "source": [
    "### Multi-Head Attention\n",
    "\n",
    "Self-attention described above computes only single context vector of attention scores, which for real problems is often not enough. Multi-head attention is a mechanism, which uses multiple independent (or learnable) key, query and value matrices to capture different relations between tokens. This is similar to using multiple independent convolutional filters in a single layer in conv net. However, attention needs to preserve the shape of input representation, so before output is generated all different context vectors are concatenated and multiplied by another learned matrix converting the shape back to input shape. This matrix is called output projection matrix (it is also learned!). \n",
    "\n",
    "Usually more heads means better modelling abilities, the model used in this example has 8 heads."
   ]
  },
  {
   "cell_type": "code",
   "execution_count": 35,
   "metadata": {},
   "outputs": [
    {
     "data": {
      "text/plain": [
       "8"
      ]
     },
     "execution_count": 35,
     "metadata": {},
     "output_type": "execute_result"
    }
   ],
   "source": [
    "transformer.model.encoder.layers[0].self_attn.num_heads"
   ]
  },
  {
   "cell_type": "code",
   "execution_count": 36,
   "metadata": {},
   "outputs": [
    {
     "data": {
      "text/plain": [
       "Linear(in_features=512, out_features=512, bias=True)"
      ]
     },
     "execution_count": 36,
     "metadata": {},
     "output_type": "execute_result"
    }
   ],
   "source": [
    "transformer.model.encoder.layers[0].self_attn.out_proj"
   ]
  },
  {
   "attachments": {},
   "cell_type": "markdown",
   "metadata": {},
   "source": [
    "*Note*: Real transformer uses more efficient batch-matrix multiplication of above operations. Also all heads are stacked into matrices, which makes computing keys and queries more efficient. The key and query dimension is `model_dimension / num_heads`, so for this model it is 64."
   ]
  },
  {
   "attachments": {},
   "cell_type": "markdown",
   "metadata": {},
   "source": [
    "### Feedforward Network\n",
    "\n",
    "This part of the transformer is a simple feedforward network with 2 linear layers and nonlinear activation function. It is applied to each token independently, so it does not change the shape of the input. In most implementations first layer is an up-projection in dimension and second is down-projection. For this model, the hidden dimension is 2048 and the output dimension is 512, which is the model dimension."
   ]
  },
  {
   "cell_type": "code",
   "execution_count": 37,
   "metadata": {},
   "outputs": [
    {
     "data": {
      "text/plain": [
       "Linear(in_features=512, out_features=2048, bias=True)"
      ]
     },
     "execution_count": 37,
     "metadata": {},
     "output_type": "execute_result"
    }
   ],
   "source": [
    "transformer.model.encoder.layers[0].fc1"
   ]
  },
  {
   "cell_type": "code",
   "execution_count": 38,
   "metadata": {},
   "outputs": [
    {
     "data": {
      "text/plain": [
       "Linear(in_features=2048, out_features=512, bias=True)"
      ]
     },
     "execution_count": 38,
     "metadata": {},
     "output_type": "execute_result"
    }
   ],
   "source": [
    "transformer.model.encoder.layers[0].fc2"
   ]
  },
  {
   "attachments": {},
   "cell_type": "markdown",
   "metadata": {},
   "source": [
    "The activation in the model is performed between feedforward layers, in this case SiLU is used, but ReLU and GeLU (and other variants of derived from piecewise linear functions) are also used often."
   ]
  },
  {
   "cell_type": "code",
   "execution_count": 39,
   "metadata": {},
   "outputs": [
    {
     "data": {
      "image/png": "[encoded data removed]",
      "text/plain": [
       "<Figure size 640x480 with 1 Axes>"
      ]
     },
     "metadata": {},
     "output_type": "display_data"
    }
   ],
   "source": [
    "x = torch.linspace(-10, 10, 100)\n",
    "\n",
    "_ = plt.plot(x.numpy(), transformer.model.encoder.layers[0].activation_fn(x).numpy())\n",
    "_ = plt.title(\"SiLU Activation Function\")"
   ]
  },
  {
   "attachments": {},
   "cell_type": "markdown",
   "metadata": {},
   "source": [
    "### Residual Connection\n",
    "\n",
    "After each layer with trained parameters, residual connection is added, which means that inputs to the layer and added to its outputs, which makes the gradient flow more stable, allowing the model have more layers."
   ]
  },
  {
   "attachments": {},
   "cell_type": "markdown",
   "metadata": {},
   "source": [
    "### Normalization and Dropout\n",
    "\n",
    "Additionally, each layer implements regularization with dropout (removing random portion of features) and normalization (scaling the features to have mean 0 and variance 1). The normalization is called layer normalization, since it is applied to each token independently. For more details see torch documentation about those layers:\n",
    "* [Dropout](https://pytorch.org/docs/stable/generated/torch.nn.Dropout.html)\n",
    "* [LayerNorm](https://pytorch.org/docs/stable/generated/torch.nn.LayerNorm.html)\n"
   ]
  },
  {
   "attachments": {},
   "cell_type": "markdown",
   "metadata": {},
   "source": [
    "# Decoder Block\n",
    "\n",
    "Decoder block is very similar to encoder block, but it contains one additional attention mechanism. It consists of 3 sublayers:\n",
    "* Masked multi-head self-attention - the same as in encoder block, but with masking out the future tokens\n",
    "* Multi-head cross-attention - attention block computing relations between source language and target language tokens\n",
    "* Feed-forward network - the same as in encoder block "
   ]
  },
  {
   "cell_type": "code",
   "execution_count": 40,
   "metadata": {},
   "outputs": [
    {
     "data": {
      "text/plain": [
       "MarianDecoder(\n",
       "  (embed_tokens): Embedding(58101, 512, padding_idx=58100)\n",
       "  (embed_positions): MarianSinusoidalPositionalEmbedding(512, 512)\n",
       "  (layers): ModuleList(\n",
       "    (0-5): 6 x MarianDecoderLayer(\n",
       "      (self_attn): MarianAttention(\n",
       "        (k_proj): Linear(in_features=512, out_features=512, bias=True)\n",
       "        (v_proj): Linear(in_features=512, out_features=512, bias=True)\n",
       "        (q_proj): Linear(in_features=512, out_features=512, bias=True)\n",
       "        (out_proj): Linear(in_features=512, out_features=512, bias=True)\n",
       "      )\n",
       "      (activation_fn): SiLUActivation()\n",
       "      (self_attn_layer_norm): LayerNorm((512,), eps=1e-05, elementwise_affine=True)\n",
       "      (encoder_attn): MarianAttention(\n",
       "        (k_proj): Linear(in_features=512, out_features=512, bias=True)\n",
       "        (v_proj): Linear(in_features=512, out_features=512, bias=True)\n",
       "        (q_proj): Linear(in_features=512, out_features=512, bias=True)\n",
       "        (out_proj): Linear(in_features=512, out_features=512, bias=True)\n",
       "      )\n",
       "      (encoder_attn_layer_norm): LayerNorm((512,), eps=1e-05, elementwise_affine=True)\n",
       "      (fc1): Linear(in_features=512, out_features=2048, bias=True)\n",
       "      (fc2): Linear(in_features=2048, out_features=512, bias=True)\n",
       "      (final_layer_norm): LayerNorm((512,), eps=1e-05, elementwise_affine=True)\n",
       "    )\n",
       "  )\n",
       ")"
      ]
     },
     "execution_count": 40,
     "metadata": {},
     "output_type": "execute_result"
    }
   ],
   "source": [
    "transformer.model.decoder"
   ]
  },
  {
   "attachments": {},
   "cell_type": "markdown",
   "metadata": {},
   "source": [
    "Cross-attention is a trainable module with three 4 parameter matrices, which are very similar to self-attention. The only difference is, where the inputs come from. In the decoder cross-attention queries are computed from the previous decoder block, while keys and values are computed from the encoder block. This allows the decoder to pay attention to the source language tokens, while generating the target language tokens."
   ]
  },
  {
   "cell_type": "code",
   "execution_count": 41,
   "metadata": {},
   "outputs": [
    {
     "data": {
      "text/plain": [
       "MarianAttention(\n",
       "  (k_proj): Linear(in_features=512, out_features=512, bias=True)\n",
       "  (v_proj): Linear(in_features=512, out_features=512, bias=True)\n",
       "  (q_proj): Linear(in_features=512, out_features=512, bias=True)\n",
       "  (out_proj): Linear(in_features=512, out_features=512, bias=True)\n",
       ")"
      ]
     },
     "execution_count": 41,
     "metadata": {},
     "output_type": "execute_result"
    }
   ],
   "source": [
    "transformer.model.decoder.layers[0].encoder_attn"
   ]
  },
  {
   "attachments": {},
   "cell_type": "markdown",
   "metadata": {},
   "source": [
    "# All Together\n",
    "\n",
    "Transformer is quite complex model, but the fundamental idea of removing recurrence and replacing it with attention allowed the model to achieve spectacular results."
   ]
  },
  {
   "cell_type": "code",
   "execution_count": 42,
   "metadata": {},
   "outputs": [],
   "source": [
    "def translate(text, max_new_tokens=100):\n",
    "    tokens = tokenizer(text, return_tensors=\"pt\", padding=False)\n",
    "    outputs = transformer.generate(**tokens, max_new_tokens=max_new_tokens)\n",
    "    predictions = tokenizer.decode(outputs[0])\n",
    "\n",
    "    return re.sub(\"<pad>|</s>\", \"\", predictions).strip()  # naive post-processing"
   ]
  },
  {
   "cell_type": "code",
   "execution_count": 43,
   "metadata": {},
   "outputs": [
    {
     "data": {
      "text/plain": [
       "'Machine learning is great'"
      ]
     },
     "execution_count": 43,
     "metadata": {},
     "output_type": "execute_result"
    }
   ],
   "source": [
    "translate(\"Maschinelles Lernen ist großartig\")"
   ]
  },
  {
   "cell_type": "code",
   "execution_count": null,
   "metadata": {},
   "outputs": [],
   "source": []
  }
 ],
 "metadata": {
  "kernelspec": {
   "display_name": ".venv",
   "language": "python",
   "name": "python3"
  },
  "language_info": {
   "codemirror_mode": {
    "name": "ipython",
    "version": 3
   },
   "file_extension": ".py",
   "mimetype": "text/x-python",
   "name": "python",
   "nbconvert_exporter": "python",
   "pygments_lexer": "ipython3",
   "version": "3.9.6"
  },
  "orig_nbformat": 4
 },
 "nbformat": 4,
 "nbformat_minor": 2
}
