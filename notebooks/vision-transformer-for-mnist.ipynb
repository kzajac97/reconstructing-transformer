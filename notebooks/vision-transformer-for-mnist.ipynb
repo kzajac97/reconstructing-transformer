{
 "cells": [
  {
   "attachments": {},
   "cell_type": "markdown",
   "metadata": {},
   "source": [
    "# Vision Transformer \n",
    "\n",
    "This notebook presents training toy ViT model on MNIST dataset. \n",
    "\n",
    "### Sources\n",
    "\n",
    "1. [An Image is Worth 16x16 Words: Transformers for Image Recognition at Scale](https://arxiv.org/abs/2010.11929)\n",
    "2. [Vision Transformer (ViT): An Image is Worth 16x16 Words & Transformers for Computer Vision Overview](https://www.youtube.com/watch?v=TrdevFK_am4)\n",
    "3. [Transformer from Scratch Python: A Step by Step Guide](https://medium.com/mlearning-ai/vision-transformers-from-scratch-pytorch-a-step-by-step-guide-96c3313c2e0c)\n",
    "\n",
    "### Setup"
   ]
  },
  {
   "cell_type": "code",
   "execution_count": 1,
   "metadata": {},
   "outputs": [
    {
     "name": "stderr",
     "output_type": "stream",
     "text": [
      "/opt/conda/lib/python3.10/site-packages/tqdm/auto.py:22: TqdmWarning: IProgress not found. Please update jupyter and ipywidgets. See https://ipywidgets.readthedocs.io/en/stable/user_install.html\n",
      "  from .autonotebook import tqdm as notebook_tqdm\n"
     ]
    }
   ],
   "source": [
    "import math\n",
    "import os\n",
    "from functools import cached_property\n",
    "from typing import Any, Callable, Iterable, Tuple\n",
    "\n",
    "import numpy as np\n",
    "import seaborn as sns\n",
    "import torch\n",
    "import torchvision\n",
    "import lovely_tensors as lt\n",
    "import wandb\n",
    "from skimage import io\n",
    "from sklearn import metrics\n",
    "from sklearn.model_selection import train_test_split"
   ]
  },
  {
   "cell_type": "code",
   "execution_count": 2,
   "metadata": {},
   "outputs": [],
   "source": [
    "lt.monkey_patch()"
   ]
  },
  {
   "attachments": {},
   "cell_type": "markdown",
   "metadata": {},
   "source": [
    "### Dataset\n",
    "\n",
    "Create dataset using `torchvision` built in utils."
   ]
  },
  {
   "cell_type": "code",
   "execution_count": 3,
   "metadata": {},
   "outputs": [],
   "source": [
    "transforms = torchvision.transforms.Compose([\n",
    "    torchvision.transforms.ToTensor(),  # convert PIL to tensor\n",
    "    torchvision.transforms.Lambda(lambda image: image.squeeze()),  # convert shape from (BATCH_SIZE, 1, X, Y) to (BATCH_SIZE, X * Y)\n",
    "])\n",
    "\n",
    "train_dataset = torchvision.datasets.MNIST(\"../data\", download=True, transform=transforms, train=True)\n",
    "test_dataset = torchvision.datasets.MNIST(\"../data\", download=True, transform=transforms, train=False)"
   ]
  },
  {
   "attachments": {},
   "cell_type": "markdown",
   "metadata": {},
   "source": [
    "The choice of `batch_size` will impact training speed, for transformers the batch size should be relatively large in most cases."
   ]
  },
  {
   "cell_type": "code",
   "execution_count": 4,
   "metadata": {},
   "outputs": [],
   "source": [
    "train_data_loader = torch.utils.data.DataLoader(dataset=train_dataset, batch_size=128, shuffle=True)\n",
    "test_data_loader = torch.utils.data.DataLoader(dataset=test_dataset, batch_size=128, shuffle=False)"
   ]
  },
  {
   "cell_type": "code",
   "execution_count": 5,
   "metadata": {},
   "outputs": [
    {
     "name": "stdout",
     "output_type": "stream",
     "text": [
      "torch.Size([128, 28, 28])\n",
      "torch.Size([128])\n"
     ]
    }
   ],
   "source": [
    "for x, y in train_data_loader:\n",
    "    print(x.shape)\n",
    "    print(y.shape)\n",
    "    break"
   ]
  },
  {
   "attachments": {},
   "cell_type": "markdown",
   "metadata": {},
   "source": [
    "Sample one element from the dataset and visualize it using `skimage`."
   ]
  },
  {
   "cell_type": "code",
   "execution_count": 6,
   "metadata": {},
   "outputs": [
    {
     "data": {
      "image/png": "[encoded data removed]",
      "text/plain": [
       "<Figure size 640x480 with 1 Axes>"
      ]
     },
     "metadata": {},
     "output_type": "display_data"
    }
   ],
   "source": [
    "_ = io.imshow(x[0].numpy())"
   ]
  },
  {
   "attachments": {},
   "cell_type": "markdown",
   "metadata": {},
   "source": [
    "# Model\n",
    "\n",
    "Model will follow down-sized VIT architecture, where patches are adjusted to small size of images in the dataset. Depth of the model and feedforward dimensions will also be reduced, to allow faster training.\n",
    "\n",
    "### Patcher\n",
    "\n",
    "VIT model can only process images in patches, utility class is implemented for this purpose. It splits each image into very small, 4x4 patches (original paper uses 16x16 patches). This will allow the model to use attention mechanism to process the image, since the patches will be treated as words and seuqence of patches as a sentence (intuition). \n",
    "\n",
    "The code is also available in `src/patcher.py`."
   ]
  },
  {
   "cell_type": "code",
   "execution_count": 7,
   "metadata": {},
   "outputs": [],
   "source": [
    "class ImagePatcher(torch.nn.Module):\n",
    "    \"\"\"\n",
    "    Class is used to patch images into slices so it can be processed by transformer model.\n",
    "    \"\"\"\n",
    "\n",
    "    def __init__(self, patch_size: int, stride: int, device: str = \"cpu\"):\n",
    "        \"\"\"\n",
    "        :param patch_size: Size of the patch to be extracted from the image.\n",
    "        :param stride: The stride with which the patch is extracted, for grayscale image it should be patch_size / 2\n",
    "        :param device: Device on which the tensor should be stored,\n",
    "                       Implementation works only for CPU, but class can cast output to GPU for easier usage.\n",
    "        \"\"\"\n",
    "        super().__init__()\n",
    "\n",
    "        self.patch_size = patch_size\n",
    "        self.stride = stride\n",
    "        self.device = device\n",
    "\n",
    "    def patchify(self, image: torch.Tensor) -> torch.Tensor:\n",
    "        patched = image.unfold(0, size=self.patch_size, step=self.stride).unfold(\n",
    "            1, size=self.patch_size, step=self.stride\n",
    "        )\n",
    "        patched = patched.flatten(0, 1).flatten(-2, -1)\n",
    "        return patched\n",
    "\n",
    "    def forward(self, batch: torch.Tensor) -> torch.Tensor:\n",
    "        \"\"\"Converts a tensor of shape (BATCH_SIZE, X, Y) to (BATCH_SIZE, X * Y / PATCH_SIZE, PATCH_SIZE)\"\"\"\n",
    "        return torch.stack([self.patchify(image.cpu()) for image in batch]).to(self.device)\n"
   ]
  },
  {
   "attachments": {},
   "cell_type": "markdown",
   "metadata": {},
   "source": [
    "Exampel patcher instance processing batch of MNIST images."
   ]
  },
  {
   "cell_type": "code",
   "execution_count": 8,
   "metadata": {},
   "outputs": [
    {
     "data": {
      "text/plain": [
       "torch.Size([128, 49, 16])"
      ]
     },
     "execution_count": 8,
     "metadata": {},
     "output_type": "execute_result"
    }
   ],
   "source": [
    "patcher = ImagePatcher(patch_size=4, stride=4, device=\"cpu\")\n",
    "patcher(x).shape"
   ]
  },
  {
   "attachments": {},
   "cell_type": "markdown",
   "metadata": {},
   "source": [
    "Define positional encoding module"
   ]
  },
  {
   "cell_type": "code",
   "execution_count": 9,
   "metadata": {},
   "outputs": [],
   "source": [
    "class PositionalEncoder(torch.nn.Module):\n",
    "    \"\"\"\n",
    "    Positional encoder used to encode position of the patch in the image or element in sequence.\n",
    "    Based on the implementation provided by PyTorch: https://pytorch.org/tutorials/beginner/transformer_tutorial.html\n",
    "    \"\"\"\n",
    "\n",
    "    def __init__(self, d_model: int = 16, max_len: int = 50, dropout: float = 0.0, device: str = \"cpu\"):\n",
    "        \"\"\"\n",
    "        :param d_model: dimension of the transformer model\n",
    "        :param max_len: maximum length of the sequence supported by encoding module\n",
    "        :param dropout: probability of an element to be dropped out\n",
    "        \"\"\"\n",
    "        super().__init__()\n",
    "\n",
    "        self.d_model = d_model\n",
    "        self.max_len = max_len\n",
    "        self.device = device\n",
    "        self.registered: bool = False\n",
    "\n",
    "        self.dropout = torch.nn.Dropout(p=dropout).to(device)\n",
    "\n",
    "    @cached_property\n",
    "    def positional_encoding(self) -> torch.Tensor:\n",
    "        position = torch.arange(self.max_len).unsqueeze(1)\n",
    "        div_term = torch.exp(torch.arange(0, self.d_model, 2) * (-math.log(10000.0) / self.d_model))\n",
    "        encoding = torch.zeros(self.max_len, self.d_model)\n",
    "\n",
    "        encoding[:, 0::2] = torch.sin(position * div_term)\n",
    "        encoding[:, 1::2] = torch.cos(position * div_term)\n",
    "\n",
    "        return encoding.to(self.device)\n",
    "\n",
    "    @torch.no_grad()\n",
    "    def forward(self, x: torch.Tensor) -> torch.Tensor:\n",
    "        x = x + self.positional_encoding[:x.size(1), :]\n",
    "        return self.dropout(x)\n"
   ]
  },
  {
   "cell_type": "code",
   "execution_count": 10,
   "metadata": {},
   "outputs": [
    {
     "data": {
      "text/plain": [
       "torch.Size([8, 50, 1024])"
      ]
     },
     "execution_count": 10,
     "metadata": {},
     "output_type": "execute_result"
    }
   ],
   "source": [
    "encoder = PositionalEncoder(d_model=1024, max_len=50)\n",
    "output = encoder.forward(torch.zeros(8, 50, 1024))\n",
    "\n",
    "output.shape"
   ]
  },
  {
   "attachments": {},
   "cell_type": "markdown",
   "metadata": {},
   "source": [
    "Plotting single example of positional encoding."
   ]
  },
  {
   "cell_type": "code",
   "execution_count": 11,
   "metadata": {},
   "outputs": [
    {
     "data": {
      "image/png": "[encoded data removed]",
      "text/plain": [
       "<Figure size 640x480 with 2 Axes>"
      ]
     },
     "metadata": {},
     "output_type": "display_data"
    }
   ],
   "source": [
    "_ = sns.heatmap(output[0, :, :].numpy())"
   ]
  },
  {
   "cell_type": "code",
   "execution_count": 12,
   "metadata": {},
   "outputs": [
    {
     "data": {
      "text/plain": [
       "torch.Size([16, 16])"
      ]
     },
     "execution_count": 12,
     "metadata": {},
     "output_type": "execute_result"
    }
   ],
   "source": [
    "encoder = PositionalEncoder(d_model=16, max_len=16)\n",
    "output = encoder.forward(torch.zeros(16, 16))\n",
    "\n",
    "output.shape"
   ]
  },
  {
   "attachments": {},
   "cell_type": "markdown",
   "metadata": {},
   "source": [
    "### Encoder\n",
    "\n",
    "Create VIT model for MNIST dataset. The model works in following steps:\n",
    "1. Split image into patches\n",
    "2. Embed each patche\n",
    "3. Add positional encoding to each patch\n",
    "4. Pass patches through transformer encoder\n",
    "5. Using learned linear layer concatenate into single embedding\n",
    "6. Pass through classification head to get logits"
   ]
  },
  {
   "cell_type": "code",
   "execution_count": 13,
   "metadata": {},
   "outputs": [],
   "source": [
    "class MiniVisionTransformerClassifier(torch.nn.Module):\n",
    "    \"\"\"\n",
    "    Mini Vision Transformer classifier is a minimal auto-didactic implementation of the Vision Transformer model\n",
    "    based on the paper: https://arxiv.org/abs/2010.11929\n",
    "    \"\"\"\n",
    "\n",
    "    def __init__(\n",
    "        self,\n",
    "        model_dim: int,\n",
    "        patch_size: int,\n",
    "        patches_in_image: int,\n",
    "        num_classes: int,\n",
    "        num_heads: int,\n",
    "        num_layers: int,\n",
    "        dim_feedforward: int,\n",
    "        device: str = \"cuda\",\n",
    "    ):\n",
    "        \"\"\"\n",
    "        :param model_dim: dimension of the transformer model\n",
    "        :param patch_size: size of the patch to be extracted from the image\n",
    "        :param patches_in_image: number of patches in the image\n",
    "        :param num_classes: number of classes in the dataset\n",
    "        :param num_heads: number of heads in the transformer model\n",
    "        :param num_layers: number of layers in the encoder stack of the transformer model\n",
    "        :param dim_feedforward: dimension of the feedforward network in the transformer model\n",
    "        \"\"\"\n",
    "        super().__init__()\n",
    "\n",
    "        self.patcher = ImagePatcher(patch_size=patch_size, stride=patch_size, device=device)\n",
    "        self.embedding = torch.nn.Linear(in_features=model_dim, out_features=model_dim, bias=False).to(device)\n",
    "        self.positional_encoding = PositionalEncoder(d_model=model_dim, max_len=1 + patches_in_image, device=device)\n",
    "        self.pooler = torch.nn.Linear(in_features=patches_in_image * model_dim, out_features=model_dim).to(device)\n",
    "\n",
    "        self.encoder = torch.nn.TransformerEncoder(\n",
    "            torch.nn.TransformerEncoderLayer(\n",
    "                d_model=model_dim, nhead=num_heads, dim_feedforward=dim_feedforward, batch_first=True\n",
    "            ),\n",
    "            num_layers=num_layers,\n",
    "        ).to(device)\n",
    "\n",
    "        self.classifier = torch.nn.Linear(in_features=model_dim, out_features=num_classes).to(device)\n",
    "\n",
    "    def forward(self, batch: torch.Tensor, return_embeddings: bool = False) -> torch.Tensor:\n",
    "        patches = self.patcher(batch)\n",
    "        embeddings = self.embedding(patches)\n",
    "        embeddings = self.positional_encoding(embeddings)\n",
    "        embeddings = self.encoder(embeddings)\n",
    "\n",
    "        outputs = self.pooler(embeddings.flatten(start_dim=1))\n",
    "        logits = self.classifier(outputs)\n",
    "        predictions = torch.nn.functional.softmax(logits, dim=-1)\n",
    "\n",
    "        return predictions\n"
   ]
  },
  {
   "attachments": {},
   "cell_type": "markdown",
   "metadata": {},
   "source": [
    "Create instance of the model and look at its structure."
   ]
  },
  {
   "cell_type": "code",
   "execution_count": 14,
   "metadata": {},
   "outputs": [],
   "source": [
    "transformer = MiniVisionTransformerClassifier(model_dim=16, patch_size=4, patches_in_image=49, num_classes=10, num_heads=2, num_layers=2, dim_feedforward=2048, device=\"cuda\")"
   ]
  },
  {
   "attachments": {},
   "cell_type": "markdown",
   "metadata": {},
   "source": [
    "Passing single batch return tensor of shape `[batch_size, num_classes]`, in each row there is a probability distribution over classes, which sums up to 1."
   ]
  },
  {
   "cell_type": "code",
   "execution_count": 15,
   "metadata": {},
   "outputs": [
    {
     "data": {
      "text/plain": [
       "(torch.Size([128, 10]), tensor cuda:0 1.000)"
      ]
     },
     "execution_count": 15,
     "metadata": {},
     "output_type": "execute_result"
    }
   ],
   "source": [
    "with torch.no_grad():\n",
    "    y = transformer(x.cuda())\n",
    "\n",
    "y.shape, y[0].sum()"
   ]
  },
  {
   "attachments": {},
   "cell_type": "markdown",
   "metadata": {},
   "source": [
    "# Training\n",
    "\n",
    "Define a training loop for the VIT model using W&B along with some utils for logging to W&B.\n",
    "\n",
    "Firstly, define a function prediction on given `data_loader`, it can be any Iterable working in batches. "
   ]
  },
  {
   "cell_type": "code",
   "execution_count": 16,
   "metadata": {},
   "outputs": [],
   "source": [
    "def predict(model: torch.nn.Module, data_loader: Iterable) -> Tuple[torch.Tensor, torch.Tensor]:\n",
    "    \"\"\"\n",
    "    Prediction loop for the given model and data loader\n",
    "    :note: assumes running on CUDA enabled device\n",
    "    \"\"\"\n",
    "    model = model.eval()\n",
    "    targets, predictions = [], []\n",
    "\n",
    "    for inputs, y_true in data_loader:\n",
    "        with torch.no_grad():\n",
    "            inputs = inputs.cuda()\n",
    "            y_true = y_true.cuda()\n",
    "\n",
    "            y_pred = model(inputs)\n",
    "\n",
    "            predictions.append(y_pred)\n",
    "            targets.append(y_true)\n",
    "\n",
    "    return torch.cat(targets), torch.cat(predictions)\n",
    "\n",
    "\n",
    "def evaluate(y_true: Iterable, y_pred: Iterable) -> dict[str, float]:\n",
    "    return {\n",
    "        \"accuracy\": metrics.accuracy_score(y_true, y_pred),\n",
    "        \"precision\": metrics.precision_score(y_true, y_pred, zero_division=0, average=\"macro\"),\n",
    "        \"recall\": metrics.recall_score(y_true, y_pred, zero_division=0, average=\"macro\"),\n",
    "        \"f1_score\": metrics.f1_score(y_true, y_pred, zero_division=0, average=\"macro\"),\n",
    "    }\n"
   ]
  },
  {
   "attachments": {},
   "cell_type": "markdown",
   "metadata": {},
   "source": [
    "### Utils\n",
    "\n",
    "Add a number of training utils for adding accuracy and F1 score metrics to W&B and parameter counting function."
   ]
  },
  {
   "cell_type": "code",
   "execution_count": 17,
   "metadata": {},
   "outputs": [],
   "source": [
    "def log_training_progress(model: torch.nn.Module, epoch: int, data_loader: Iterable) -> None:\n",
    "    \"\"\"\n",
    "    Logs progress of the model training to W&B\n",
    "    :note: requires Wto be called inside W&B run\n",
    "    \"\"\"\n",
    "    logs = {}\n",
    "    targets, predictions = predict(model, data_loader)\n",
    "\n",
    "    logs[\"accuracy\"] = metrics.accuracy_score(targets.cpu(), predictions.cpu().argmax(dim=-1))\n",
    "    logs[\"f1_score\"] = metrics.f1_score(\n",
    "        targets.cpu(), predictions.cpu().argmax(dim=-1), zero_division=0, average=\"macro\"\n",
    "    )\n",
    "\n",
    "    wandb.log(logs, step=epoch)\n",
    "\n",
    "\n",
    "def count_trainable_parameters(model: torch.nn.Module) -> int:\n",
    "    \"\"\"Return the number of trainable parameters in neural model\"\"\"\n",
    "    return sum(param.numel() for param in model.parameters() if param.requires_grad)\n"
   ]
  },
  {
   "cell_type": "code",
   "execution_count": 18,
   "metadata": {},
   "outputs": [
    {
     "data": {
      "text/plain": [
       "(torch.Size([10000]), torch.Size([10000, 10]))"
      ]
     },
     "execution_count": 18,
     "metadata": {},
     "output_type": "execute_result"
    }
   ],
   "source": [
    "targets, predictions = predict(transformer, test_data_loader)\n",
    "targets.shape, predictions.shape"
   ]
  },
  {
   "attachments": {},
   "cell_type": "markdown",
   "metadata": {},
   "source": [
    "Evaluate untrained model on test set. It should perform randomly, which means around 10% accuracy."
   ]
  },
  {
   "cell_type": "code",
   "execution_count": 19,
   "metadata": {},
   "outputs": [
    {
     "name": "stdout",
     "output_type": "stream",
     "text": [
      "              precision    recall  f1-score   support\n",
      "\n",
      "           0       0.25      0.00      0.00       980\n",
      "           1       0.00      0.00      0.00      1135\n",
      "           2       0.00      0.00      0.00      1032\n",
      "           3       0.00      0.00      0.00      1010\n",
      "           4       0.10      0.95      0.18       982\n",
      "           5       0.00      0.00      0.00       892\n",
      "           6       0.00      0.00      0.00       958\n",
      "           7       0.00      0.00      0.00      1028\n",
      "           8       0.00      0.00      0.00       974\n",
      "           9       0.00      0.00      0.00      1009\n",
      "\n",
      "    accuracy                           0.09     10000\n",
      "   macro avg       0.04      0.10      0.02     10000\n",
      "weighted avg       0.03      0.09      0.02     10000\n",
      "\n"
     ]
    }
   ],
   "source": [
    "print(metrics.classification_report(targets.cpu(), predictions.cpu().argmax(dim=-1), zero_division=0))"
   ]
  },
  {
   "cell_type": "code",
   "execution_count": 20,
   "metadata": {},
   "outputs": [],
   "source": [
    "def train_test_split_data_loader(dataset, test_size: float = 0.1):\n",
    "    train_indices, validation_indices = train_test_split(range(len(dataset)), test_size=test_size, random_state=42)\n",
    "    \n",
    "    train_dataset = torch.utils.data.Subset(dataset, train_indices)\n",
    "    validation_dataset = torch.utils.data.Subset(dataset, validation_indices)\n",
    "    \n",
    "    train_data_loader = torch.utils.data.DataLoader(dataset=train_dataset, batch_size=128, shuffle=True)\n",
    "    validation_data_loader = torch.utils.data.DataLoader(dataset=validation_dataset, batch_size=128, shuffle=False)\n",
    "    \n",
    "    return train_data_loader, validation_data_loader"
   ]
  },
  {
   "attachments": {},
   "cell_type": "markdown",
   "metadata": {},
   "source": [
    "Add training loop, which consists of following steps:\n",
    "1. Create training and validation data loaders.\n",
    "2. Train model for `epochs` number of epochs.\n",
    "3. Evaluate model on test set.\n",
    "4. Save model and add it to W&B artifacts."
   ]
  },
  {
   "cell_type": "code",
   "execution_count": 21,
   "metadata": {},
   "outputs": [],
   "source": [
    "def train(\n",
    "    model: torch.nn.Module,\n",
    "    optimizer: torch.optim.Optimizer,\n",
    "    loss_function: Callable,\n",
    "    dataset: Iterable,\n",
    "    n_epochs: int,\n",
    "    validation_size: float = 0.1,\n",
    ") -> torch.nn.Module:\n",
    "    \"\"\"\n",
    "    Train loop for the given torch model\n",
    "    :note: assumes running on CUDA enabled device\n",
    "    \"\"\"\n",
    "    train_data_loader, validation_data_loader = train_test_split_data_loader(dataset, test_size=validation_size)\n",
    "\n",
    "    for epoch in range(n_epochs):\n",
    "        for x, y in train_data_loader:\n",
    "            model = model.train()\n",
    "            x = x.cuda()\n",
    "            y = y.cuda()\n",
    "\n",
    "            optimizer.zero_grad()\n",
    "            y_pred = model(x)\n",
    "\n",
    "            loss_value = loss_function(y_pred, y)\n",
    "            loss_value.backward()\n",
    "            optimizer.step()\n",
    "       \n",
    "        log_training_progress(model, epoch, validation_data_loader)\n",
    "\n",
    "    return model\n",
    "\n",
    "\n",
    "def run(\n",
    "    model: torch.nn.Module,\n",
    "    optimizer: torch.optim.Optimizer,\n",
    "    loss_function: Callable,\n",
    "    train_dataset: Iterable,\n",
    "    test_dataset: Iterable,\n",
    "    n_epochs: int,\n",
    "    config: dict[str, Any],\n",
    "    validation_size=0.1,\n",
    ") -> None:\n",
    "    \"\"\"\n",
    "    Run training and evaluation loop for the given model and data\n",
    "\n",
    "    :param model: pytorch model to train\n",
    "    :param optimizer: pytorch optimizer to use\n",
    "    :param loss_function: pytorch loss function to use\n",
    "    :param train_dataset: iterable dataset for training\n",
    "    :param test_dataset: iterable dataset for testing\n",
    "    :param n_epochs: number of epochs to train\n",
    "    :param config: dictionary with configuration for W&B\n",
    "    :param validation_size: size of the validation set\n",
    "    \"\"\"\n",
    "    with wandb.init(project=config[\"project_name\"], name=config[\"run_name\"]):\n",
    "        wandb.log(config)\n",
    "        test_data_loader = torch.utils.data.DataLoader(dataset=test_dataset, batch_size=128, shuffle=False)\n",
    "        # run training and evaluation\n",
    "        model = train(model, optimizer, loss_function, train_dataset, n_epochs, validation_size)\n",
    "        targets, predictions = predict(model, test_data_loader)\n",
    "        # log metrics and model info to W&B\n",
    "        wandb.log(evaluate(targets.cpu(), predictions.cpu().argmax(dim=-1)))\n",
    "        wandb.log({\"n_trainable_parameters\": count_trainable_parameters(model)})\n",
    "        # save model to file and upload to W&B\n",
    "        path = os.path.join(wandb.run.dir, \"model.pt\")\n",
    "        torch.save(model.state_dict(), path)\n",
    "        torch.save(model.state_dict(), \"model.pt\")\n",
    "        wandb.save(path)\n",
    "    \n",
    "    return model"
   ]
  },
  {
   "cell_type": "code",
   "execution_count": 22,
   "metadata": {},
   "outputs": [],
   "source": [
    "optimizer = torch.optim.AdamW(transformer.parameters(), lr=1e-4)\n",
    "loss_function = torch.nn.CrossEntropyLoss()\n",
    "\n",
    "config = {\n",
    "    \"project_name\": \"vision-transformer\",\n",
    "    \"run_name\": \"initial-run\",\n",
    "    \"dataset\": \"MNIST\",\n",
    "    \"model\": \"Mini-ViT\",\n",
    "    \"optimizer\": \"AdamW\",\n",
    "    \"loss_function\": \"CrossEntropyLoss\",\n",
    "}"
   ]
  },
  {
   "cell_type": "code",
   "execution_count": 23,
   "metadata": {},
   "outputs": [
    {
     "name": "stderr",
     "output_type": "stream",
     "text": [
      "\u001b[34m\u001b[1mwandb\u001b[0m: Currently logged in as: \u001b[33mkzajac\u001b[0m. Use \u001b[1m`wandb login --relogin`\u001b[0m to force relogin\n"
     ]
    },
    {
     "data": {
      "text/html": [
       "wandb version 0.15.4 is available!  To upgrade, please run:\n",
       " $ pip install wandb --upgrade"
      ],
      "text/plain": [
       "<IPython.core.display.HTML object>"
      ]
     },
     "metadata": {},
     "output_type": "display_data"
    },
    {
     "data": {
      "text/html": [
       "Tracking run with wandb version 0.13.10"
      ],
      "text/plain": [
       "<IPython.core.display.HTML object>"
      ]
     },
     "metadata": {},
     "output_type": "display_data"
    },
    {
     "data": {
      "text/html": [
       "Run data is saved locally in <code>/workspace/wandb/run-20230630_143114-km4c7xuz</code>"
      ],
      "text/plain": [
       "<IPython.core.display.HTML object>"
      ]
     },
     "metadata": {},
     "output_type": "display_data"
    },
    {
     "data": {
      "text/html": [
       "Syncing run <strong><a href='https://wandb.ai/kzajac/vision-transformer/runs/km4c7xuz' target=\"_blank\">initial-run</a></strong> to <a href='https://wandb.ai/kzajac/vision-transformer' target=\"_blank\">Weights & Biases</a> (<a href='https://wandb.me/run' target=\"_blank\">docs</a>)<br/>"
      ],
      "text/plain": [
       "<IPython.core.display.HTML object>"
      ]
     },
     "metadata": {},
     "output_type": "display_data"
    },
    {
     "data": {
      "text/html": [
       " View project at <a href='https://wandb.ai/kzajac/vision-transformer' target=\"_blank\">https://wandb.ai/kzajac/vision-transformer</a>"
      ],
      "text/plain": [
       "<IPython.core.display.HTML object>"
      ]
     },
     "metadata": {},
     "output_type": "display_data"
    },
    {
     "data": {
      "text/html": [
       " View run at <a href='https://wandb.ai/kzajac/vision-transformer/runs/km4c7xuz' target=\"_blank\">https://wandb.ai/kzajac/vision-transformer/runs/km4c7xuz</a>"
      ],
      "text/plain": [
       "<IPython.core.display.HTML object>"
      ]
     },
     "metadata": {},
     "output_type": "display_data"
    },
    {
     "name": "stderr",
     "output_type": "stream",
     "text": [
      "\u001b[34m\u001b[1mwandb\u001b[0m: \u001b[33mWARNING\u001b[0m Saving files without folders. If you want to preserve sub directories pass base_path to wandb.save, i.e. wandb.save(\"/mnt/folder/file.h5\", base_path=\"/mnt\")\n"
     ]
    },
    {
     "data": {
      "text/html": [
       "Waiting for W&B process to finish... <strong style=\"color:green\">(success).</strong>"
      ],
      "text/plain": [
       "<IPython.core.display.HTML object>"
      ]
     },
     "metadata": {},
     "output_type": "display_data"
    },
    {
     "data": {
      "text/html": [
       "<style>\n",
       "    table.wandb td:nth-child(1) { padding: 0 10px; text-align: left ; width: auto;} td:nth-child(2) {text-align: left ; width: 100%}\n",
       "    .wandb-row { display: flex; flex-direction: row; flex-wrap: wrap; justify-content: flex-start; width: 100% }\n",
       "    .wandb-col { display: flex; flex-direction: column; flex-basis: 100%; flex: 1; padding: 10px; }\n",
       "    </style>\n",
       "<div class=\"wandb-row\"><div class=\"wandb-col\"><h3>Run history:</h3><br/><table class=\"wandb\"><tr><td>accuracy</td><td>▁▃▄▅▅▆▆▆▆▇▇▇▇▇▇▇▇▇███████████</td></tr><tr><td>f1_score</td><td>▁▃▄▅▅▆▆▆▆▇▇▇▇▇▇▇▇▇███████████</td></tr><tr><td>n_trainable_parameters</td><td>▁</td></tr><tr><td>precision</td><td>▁</td></tr><tr><td>recall</td><td>▁</td></tr></table><br/></div><div class=\"wandb-col\"><h3>Run summary:</h3><br/><table class=\"wandb\"><tr><td>accuracy</td><td>0.9674</td></tr><tr><td>dataset</td><td>MNIST</td></tr><tr><td>f1_score</td><td>0.96723</td></tr><tr><td>loss_function</td><td>CrossEntropyLoss</td></tr><tr><td>model</td><td>Mini-ViT</td></tr><tr><td>n_trainable_parameters</td><td>150490</td></tr><tr><td>optimizer</td><td>AdamW</td></tr><tr><td>precision</td><td>0.96733</td></tr><tr><td>project_name</td><td>vision-transformer</td></tr><tr><td>recall</td><td>0.96725</td></tr><tr><td>run_name</td><td>initial-run</td></tr></table><br/></div></div>"
      ],
      "text/plain": [
       "<IPython.core.display.HTML object>"
      ]
     },
     "metadata": {},
     "output_type": "display_data"
    },
    {
     "data": {
      "text/html": [
       " View run <strong style=\"color:#cdcd00\">initial-run</strong> at: <a href='https://wandb.ai/kzajac/vision-transformer/runs/km4c7xuz' target=\"_blank\">https://wandb.ai/kzajac/vision-transformer/runs/km4c7xuz</a><br/>Synced 6 W&B file(s), 0 media file(s), 0 artifact file(s) and 1 other file(s)"
      ],
      "text/plain": [
       "<IPython.core.display.HTML object>"
      ]
     },
     "metadata": {},
     "output_type": "display_data"
    },
    {
     "data": {
      "text/html": [
       "Find logs at: <code>./wandb/run-20230630_143114-km4c7xuz/logs</code>"
      ],
      "text/plain": [
       "<IPython.core.display.HTML object>"
      ]
     },
     "metadata": {},
     "output_type": "display_data"
    }
   ],
   "source": [
    "trained_transformer = run(\n",
    "    transformer,\n",
    "    optimizer,\n",
    "    loss_function,\n",
    "    train_dataset,\n",
    "    test_dataset,\n",
    "    n_epochs=30,\n",
    "    config=config\n",
    ")"
   ]
  },
  {
   "cell_type": "code",
   "execution_count": 25,
   "metadata": {},
   "outputs": [
    {
     "name": "stdout",
     "output_type": "stream",
     "text": [
      "              precision    recall  f1-score   support\n",
      "\n",
      "           0       0.97      0.98      0.98       980\n",
      "           1       0.99      0.98      0.98      1135\n",
      "           2       0.96      0.97      0.96      1032\n",
      "           3       0.97      0.97      0.97      1010\n",
      "           4       0.97      0.98      0.98       982\n",
      "           5       0.97      0.96      0.97       892\n",
      "           6       0.97      0.97      0.97       958\n",
      "           7       0.96      0.94      0.95      1028\n",
      "           8       0.93      0.97      0.95       974\n",
      "           9       0.97      0.95      0.96      1009\n",
      "\n",
      "    accuracy                           0.97     10000\n",
      "   macro avg       0.97      0.97      0.97     10000\n",
      "weighted avg       0.97      0.97      0.97     10000\n",
      "\n"
     ]
    }
   ],
   "source": [
    "trained_transformer = trained_transformer.eval()\n",
    "\n",
    "targets, predictions = predict(trained_transformer, test_data_loader)\n",
    "targets = targets.cpu().numpy()\n",
    "predictions = predictions.cpu().argmax(dim=-1).numpy()\n",
    "\n",
    "print(metrics.classification_report(y_pred=predictions, y_true=targets, zero_division=0))"
   ]
  },
  {
   "cell_type": "code",
   "execution_count": null,
   "metadata": {},
   "outputs": [],
   "source": []
  }
 ],
 "metadata": {
  "kernelspec": {
   "display_name": "Python 3 (ipykernel)",
   "language": "python",
   "name": "python3"
  },
  "language_info": {
   "codemirror_mode": {
    "name": "ipython",
    "version": 3
   },
   "file_extension": ".py",
   "mimetype": "text/x-python",
   "name": "python",
   "nbconvert_exporter": "python",
   "pygments_lexer": "ipython3",
   "version": "3.10.8"
  },
  "orig_nbformat": 4
 },
 "nbformat": 4,
 "nbformat_minor": 2
}
